{
 "cells": [
  {
   "cell_type": "markdown",
   "metadata": {},
   "source": [
    "# Goal of this project\n",
    "The goal of this project is to classify a collection of documents into predefined categories based on their content. The project involves training and evaluating a text classification model using machine learning techniques, specifically focusing on applying a simple classification model to categorize documents into one of eight classes. The ultimate goal is to automatically classify and organize large volumes of text data efficiently."
   ]
  },
  {
   "cell_type": "markdown",
   "metadata": {},
   "source": [
    "## Steps Involved:\n",
    "### Data Preparation:\n",
    "\n",
    "Clean the data by removing noise like special characters.\n",
    "Convert text into a numerical format using techniques like TF-IDF or Count Vectorizer.\n",
    "\n",
    "### Model Selection: We tested multiple models:\n",
    "\n",
    "Logistic Regression\n",
    "Naive Bayes\n",
    "Support Vector Machine (SVM)\n",
    "\n",
    "### Model Training:\n",
    "\n",
    "Split the dataset into training and test sets (usually 70-30 or 80-20).\n",
    "Train the model on the training set and evaluate it on the test set.\n",
    "\n",
    "### Evaluation:\n",
    "\n",
    "Accuracy: Measures the percentage of correct predictions.\n",
    "Confusion Matrix: Shows true vs. predicted labels.\n",
    "Precision, Recall, and F1 Score: Measure how well the model performs, especially for imbalanced data.\n",
    "\n",
    "### Results:\n",
    "\n",
    "The model with the highest accuracy and F1 score was selected.\n",
    "The confusion matrix showed where the model made mistakes."
   ]
  },
  {
   "cell_type": "markdown",
   "metadata": {},
   "source": [
    "### Data Preparation:"
   ]
  },
  {
   "cell_type": "code",
   "execution_count": 1,
   "metadata": {},
   "outputs": [],
   "source": [
    "import os\n",
    "for dirname, _, filenames in os.walk('/kaggle/input'):\n",
    "    for filename in filenames:\n",
    "        print(os.path.join(dirname, filename))"
   ]
  },
  {
   "cell_type": "code",
   "execution_count": 2,
   "metadata": {},
   "outputs": [],
   "source": [
    "import pandas as pd\n",
    "from sklearn.model_selection import train_test_split\n",
    "from sklearn.feature_extraction.text import TfidfVectorizer\n",
    "from sklearn.linear_model import LogisticRegression\n",
    "from sklearn.metrics import classification_report, accuracy_score"
   ]
  },
  {
   "cell_type": "code",
   "execution_count": 3,
   "metadata": {},
   "outputs": [
    {
     "data": {
      "text/html": [
       "<div>\n",
       "<style scoped>\n",
       "    .dataframe tbody tr th:only-of-type {\n",
       "        vertical-align: middle;\n",
       "    }\n",
       "\n",
       "    .dataframe tbody tr th {\n",
       "        vertical-align: top;\n",
       "    }\n",
       "\n",
       "    .dataframe thead th {\n",
       "        text-align: right;\n",
       "    }\n",
       "</style>\n",
       "<table border=\"1\" class=\"dataframe\">\n",
       "  <thead>\n",
       "    <tr style=\"text-align: right;\">\n",
       "      <th></th>\n",
       "      <th>5485</th>\n",
       "    </tr>\n",
       "  </thead>\n",
       "  <tbody>\n",
       "    <tr>\n",
       "      <th>0</th>\n",
       "      <td>1 champion products ch approves stock split ch...</td>\n",
       "    </tr>\n",
       "    <tr>\n",
       "      <th>1</th>\n",
       "      <td>2 computer terminal systems cpml completes sal...</td>\n",
       "    </tr>\n",
       "    <tr>\n",
       "      <th>2</th>\n",
       "      <td>1 cobanco inc cbco year net shr cts vs dlrs ne...</td>\n",
       "    </tr>\n",
       "    <tr>\n",
       "      <th>3</th>\n",
       "      <td>1 am international inc am nd qtr jan oper shr ...</td>\n",
       "    </tr>\n",
       "    <tr>\n",
       "      <th>4</th>\n",
       "      <td>1 brown forman inc bfd th qtr net shr one dlr ...</td>\n",
       "    </tr>\n",
       "  </tbody>\n",
       "</table>\n",
       "</div>"
      ],
      "text/plain": [
       "                                                5485\n",
       "0  1 champion products ch approves stock split ch...\n",
       "1  2 computer terminal systems cpml completes sal...\n",
       "2  1 cobanco inc cbco year net shr cts vs dlrs ne...\n",
       "3  1 am international inc am nd qtr jan oper shr ...\n",
       "4  1 brown forman inc bfd th qtr net shr one dlr ..."
      ]
     },
     "execution_count": 3,
     "metadata": {},
     "output_type": "execute_result"
    }
   ],
   "source": [
    "df=pd.read_csv('documents/file.txt')\n",
    "df.head(5)"
   ]
  },
  {
   "cell_type": "code",
   "execution_count": 4,
   "metadata": {},
   "outputs": [
    {
     "data": {
      "text/plain": [
       "[1, 2, 1, 1, 1]"
      ]
     },
     "execution_count": 4,
     "metadata": {},
     "output_type": "execute_result"
    }
   ],
   "source": [
    "labels=[]\n",
    "for i in df['5485']:\n",
    "    labels.append(int(i[0]))\n",
    "\n",
    "labels[:5]"
   ]
  },
  {
   "cell_type": "code",
   "execution_count": 5,
   "metadata": {},
   "outputs": [],
   "source": [
    "df['labels']=labels"
   ]
  },
  {
   "cell_type": "code",
   "execution_count": 6,
   "metadata": {},
   "outputs": [
    {
     "data": {
      "text/html": [
       "<div>\n",
       "<style scoped>\n",
       "    .dataframe tbody tr th:only-of-type {\n",
       "        vertical-align: middle;\n",
       "    }\n",
       "\n",
       "    .dataframe tbody tr th {\n",
       "        vertical-align: top;\n",
       "    }\n",
       "\n",
       "    .dataframe thead th {\n",
       "        text-align: right;\n",
       "    }\n",
       "</style>\n",
       "<table border=\"1\" class=\"dataframe\">\n",
       "  <thead>\n",
       "    <tr style=\"text-align: right;\">\n",
       "      <th></th>\n",
       "      <th>5485</th>\n",
       "      <th>labels</th>\n",
       "    </tr>\n",
       "  </thead>\n",
       "  <tbody>\n",
       "    <tr>\n",
       "      <th>0</th>\n",
       "      <td>1 champion products ch approves stock split ch...</td>\n",
       "      <td>1</td>\n",
       "    </tr>\n",
       "    <tr>\n",
       "      <th>1</th>\n",
       "      <td>2 computer terminal systems cpml completes sal...</td>\n",
       "      <td>2</td>\n",
       "    </tr>\n",
       "    <tr>\n",
       "      <th>2</th>\n",
       "      <td>1 cobanco inc cbco year net shr cts vs dlrs ne...</td>\n",
       "      <td>1</td>\n",
       "    </tr>\n",
       "    <tr>\n",
       "      <th>3</th>\n",
       "      <td>1 am international inc am nd qtr jan oper shr ...</td>\n",
       "      <td>1</td>\n",
       "    </tr>\n",
       "    <tr>\n",
       "      <th>4</th>\n",
       "      <td>1 brown forman inc bfd th qtr net shr one dlr ...</td>\n",
       "      <td>1</td>\n",
       "    </tr>\n",
       "  </tbody>\n",
       "</table>\n",
       "</div>"
      ],
      "text/plain": [
       "                                                5485  labels\n",
       "0  1 champion products ch approves stock split ch...       1\n",
       "1  2 computer terminal systems cpml completes sal...       2\n",
       "2  1 cobanco inc cbco year net shr cts vs dlrs ne...       1\n",
       "3  1 am international inc am nd qtr jan oper shr ...       1\n",
       "4  1 brown forman inc bfd th qtr net shr one dlr ...       1"
      ]
     },
     "execution_count": 6,
     "metadata": {},
     "output_type": "execute_result"
    }
   ],
   "source": [
    "df.head(5)"
   ]
  },
  {
   "cell_type": "code",
   "execution_count": 7,
   "metadata": {},
   "outputs": [
    {
     "data": {
      "text/plain": [
       "Index(['doc_text', 'labels'], dtype='object')"
      ]
     },
     "execution_count": 7,
     "metadata": {},
     "output_type": "execute_result"
    }
   ],
   "source": [
    "df.isnull().sum()\n",
    "df=df.rename({'5485':'doc_text'},axis=1)\n",
    "df.columns"
   ]
  },
  {
   "cell_type": "code",
   "execution_count": 8,
   "metadata": {},
   "outputs": [
    {
     "data": {
      "text/plain": [
       "array([1, 2, 3, 4, 5, 6, 7, 8], dtype=int64)"
      ]
     },
     "execution_count": 8,
     "metadata": {},
     "output_type": "execute_result"
    }
   ],
   "source": [
    "df['labels'].unique()"
   ]
  },
  {
   "cell_type": "code",
   "execution_count": 9,
   "metadata": {},
   "outputs": [
    {
     "data": {
      "text/plain": [
       "0     champion products ch approves stock split cha...\n",
       "1     computer terminal systems cpml completes sale...\n",
       "2     cobanco inc cbco year net shr cts vs dlrs net...\n",
       "3     am international inc am nd qtr jan oper shr l...\n",
       "4     brown forman inc bfd th qtr net shr one dlr v...\n",
       "Name: doc_text, dtype: object"
      ]
     },
     "execution_count": 9,
     "metadata": {},
     "output_type": "execute_result"
    }
   ],
   "source": [
    "df['doc_text']=df['doc_text'].str[1:]\n",
    "df['doc_text'].head(5)"
   ]
  },
  {
   "cell_type": "code",
   "execution_count": 10,
   "metadata": {},
   "outputs": [
    {
     "data": {
      "text/html": [
       "<div>\n",
       "<style scoped>\n",
       "    .dataframe tbody tr th:only-of-type {\n",
       "        vertical-align: middle;\n",
       "    }\n",
       "\n",
       "    .dataframe tbody tr th {\n",
       "        vertical-align: top;\n",
       "    }\n",
       "\n",
       "    .dataframe thead th {\n",
       "        text-align: right;\n",
       "    }\n",
       "</style>\n",
       "<table border=\"1\" class=\"dataframe\">\n",
       "  <thead>\n",
       "    <tr style=\"text-align: right;\">\n",
       "      <th></th>\n",
       "      <th>doc_text</th>\n",
       "      <th>labels</th>\n",
       "    </tr>\n",
       "  </thead>\n",
       "  <tbody>\n",
       "    <tr>\n",
       "      <th>0</th>\n",
       "      <td>champion products ch approves stock split cha...</td>\n",
       "      <td>1</td>\n",
       "    </tr>\n",
       "    <tr>\n",
       "      <th>1</th>\n",
       "      <td>computer terminal systems cpml completes sale...</td>\n",
       "      <td>2</td>\n",
       "    </tr>\n",
       "    <tr>\n",
       "      <th>2</th>\n",
       "      <td>cobanco inc cbco year net shr cts vs dlrs net...</td>\n",
       "      <td>1</td>\n",
       "    </tr>\n",
       "  </tbody>\n",
       "</table>\n",
       "</div>"
      ],
      "text/plain": [
       "                                            doc_text  labels\n",
       "0   champion products ch approves stock split cha...       1\n",
       "1   computer terminal systems cpml completes sale...       2\n",
       "2   cobanco inc cbco year net shr cts vs dlrs net...       1"
      ]
     },
     "execution_count": 10,
     "metadata": {},
     "output_type": "execute_result"
    }
   ],
   "source": [
    "df.head(3)"
   ]
  },
  {
   "cell_type": "markdown",
   "metadata": {},
   "source": [
    "### Split the dataset into training and test sets"
   ]
  },
  {
   "cell_type": "code",
   "execution_count": 11,
   "metadata": {},
   "outputs": [],
   "source": [
    "# Split the data into train and test sets (80% train, 20% test)\n",
    "X = df['doc_text']\n",
    "y = df['labels']\n",
    "X_train, X_test, y_train, y_test = train_test_split(X, y, test_size=0.2, random_state=42)\n"
   ]
  },
  {
   "cell_type": "markdown",
   "metadata": {},
   "source": [
    "### Converting text data to TF-IDF features is necessary because:\n",
    "\n",
    "Text to Numbers: \n",
    "Machine learning models require numerical data, and TF-IDF turns text into numbers.\n",
    "\n",
    "Captures Word Importance:\n",
    "It highlights important words in a document by considering both how often a word appears and how rare it is across all documents.\n",
    "\n",
    "Improves Accuracy: \n",
    "TF-IDF helps the model focus on meaningful words, improving classification performance.\n",
    "Reduces Noise: It ignores common, unimportant words (like \"the\" and \"is\") to focus on words that help differentiate documents.\n",
    "\n",
    "In short, TF-IDF makes text usable for machine learning models and helps improve their performance.\n",
    "\n",
    "\n",
    "\n",
    "\n",
    "\n",
    "\n"
   ]
  },
  {
   "cell_type": "code",
   "execution_count": 12,
   "metadata": {},
   "outputs": [],
   "source": [
    "# Convert text data to TF-IDF features\n",
    "tfidf_vectorizer = TfidfVectorizer(stop_words='english', max_features=1000)  # You can change max_features\n",
    "X_train_tfidf = tfidf_vectorizer.fit_transform(X_train)\n",
    "X_test_tfidf = tfidf_vectorizer.transform(X_test)\n"
   ]
  },
  {
   "cell_type": "markdown",
   "metadata": {},
   "source": [
    "### Model Selection and training"
   ]
  },
  {
   "cell_type": "code",
   "execution_count": 13,
   "metadata": {},
   "outputs": [
    {
     "name": "stdout",
     "output_type": "stream",
     "text": [
      "Accuracy: 0.95897903372835\n",
      "Classification Report:\n",
      "               precision    recall  f1-score   support\n",
      "\n",
      "           1       0.98      0.98      0.98       556\n",
      "           2       0.93      0.99      0.96       323\n",
      "           3       0.96      0.96      0.96        54\n",
      "           4       1.00      0.85      0.92        20\n",
      "           5       1.00      0.78      0.88         9\n",
      "           6       0.96      0.87      0.91        53\n",
      "           7       0.94      0.84      0.89        38\n",
      "           8       0.90      0.82      0.86        44\n",
      "\n",
      "    accuracy                           0.96      1097\n",
      "   macro avg       0.96      0.89      0.92      1097\n",
      "weighted avg       0.96      0.96      0.96      1097\n",
      "\n"
     ]
    }
   ],
   "source": [
    "\n",
    "# Train a Logistic Regression model\n",
    "model = LogisticRegression(max_iter=1000)\n",
    "model.fit(X_train_tfidf, y_train)\n",
    "\n",
    "# Make predictions on the test set\n",
    "y_pred = model.predict(X_test_tfidf)\n",
    "\n",
    "# Evaluate the model\n",
    "print(\"Accuracy:\", accuracy_score(y_test, y_pred))\n",
    "print(\"Classification Report:\\n\", classification_report(y_test, y_pred))"
   ]
  },
  {
   "cell_type": "code",
   "execution_count": 14,
   "metadata": {},
   "outputs": [
    {
     "name": "stdout",
     "output_type": "stream",
     "text": [
      "Accuracy (Naive Bayes): 0.9279854147675478\n",
      "Classification Report (Naive Bayes):\n",
      "               precision    recall  f1-score   support\n",
      "\n",
      "           1       0.99      0.92      0.96       556\n",
      "           2       0.87      0.99      0.92       323\n",
      "           3       0.79      0.98      0.88        54\n",
      "           4       1.00      0.75      0.86        20\n",
      "           5       1.00      0.11      0.20         9\n",
      "           6       0.92      0.91      0.91        53\n",
      "           7       0.94      0.79      0.86        38\n",
      "           8       0.84      0.84      0.84        44\n",
      "\n",
      "    accuracy                           0.93      1097\n",
      "   macro avg       0.92      0.79      0.80      1097\n",
      "weighted avg       0.94      0.93      0.93      1097\n",
      "\n"
     ]
    }
   ],
   "source": [
    "from sklearn.naive_bayes import MultinomialNB\n",
    "\n",
    "# Train a Naive Bayes model\n",
    "nb_model = MultinomialNB()\n",
    "nb_model.fit(X_train_tfidf, y_train)\n",
    "\n",
    "# Make predictions\n",
    "y_pred_nb = nb_model.predict(X_test_tfidf)\n",
    "\n",
    "# Evaluate the model\n",
    "print(\"Accuracy (Naive Bayes):\", accuracy_score(y_test, y_pred_nb))\n",
    "print(\"Classification Report (Naive Bayes):\\n\", classification_report(y_test, y_pred_nb))\n"
   ]
  },
  {
   "cell_type": "code",
   "execution_count": 15,
   "metadata": {},
   "outputs": [
    {
     "name": "stdout",
     "output_type": "stream",
     "text": [
      "Accuracy (SVM): 0.9608021877848678\n",
      "Classification Report (SVM):\n",
      "               precision    recall  f1-score   support\n",
      "\n",
      "           1       0.99      0.98      0.98       556\n",
      "           2       0.94      0.98      0.96       323\n",
      "           3       0.95      0.96      0.95        54\n",
      "           4       0.95      0.90      0.92        20\n",
      "           5       1.00      0.78      0.88         9\n",
      "           6       0.92      0.92      0.92        53\n",
      "           7       0.89      0.82      0.85        38\n",
      "           8       0.90      0.84      0.87        44\n",
      "\n",
      "    accuracy                           0.96      1097\n",
      "   macro avg       0.94      0.90      0.92      1097\n",
      "weighted avg       0.96      0.96      0.96      1097\n",
      "\n"
     ]
    }
   ],
   "source": [
    "from sklearn.svm import SVC\n",
    "\n",
    "# Train a Support Vector Machine (SVM) model\n",
    "svm_model = SVC(kernel='linear')  # You can also experiment with other kernels\n",
    "svm_model.fit(X_train_tfidf, y_train)\n",
    "\n",
    "# Make predictions\n",
    "y_pred_svm = svm_model.predict(X_test_tfidf)\n",
    "\n",
    "# Evaluate the model\n",
    "print(\"Accuracy (SVM):\", accuracy_score(y_test, y_pred_svm))\n",
    "print(\"Classification Report (SVM):\\n\", classification_report(y_test, y_pred_svm))\n"
   ]
  },
  {
   "cell_type": "code",
   "execution_count": 20,
   "metadata": {},
   "outputs": [
    {
     "data": {
      "text/plain": [
       "['saved_models/svm_model.pkl']"
      ]
     },
     "execution_count": 20,
     "metadata": {},
     "output_type": "execute_result"
    }
   ],
   "source": [
    "import joblib\n",
    "# Save the trained SVM model\n",
    "joblib.dump(svm_model, 'saved_models/svm_model.pkl')"
   ]
  },
  {
   "cell_type": "markdown",
   "metadata": {},
   "source": [
    "### Evaluation:"
   ]
  },
  {
   "cell_type": "code",
   "execution_count": 16,
   "metadata": {},
   "outputs": [
    {
     "data": {
      "image/png": "[encoded data removed]",
      "text/plain": [
       "<Figure size 640x480 with 1 Axes>"
      ]
     },
     "metadata": {},
     "output_type": "display_data"
    }
   ],
   "source": [
    "import matplotlib.pyplot as plt\n",
    "\n",
    "# Example accuracies (you can replace these with actual results)\n",
    "models = ['Logistic Regression', 'Naive Bayes', 'SVM']\n",
    "accuracies = [accuracy_score(y_test, y_pred), accuracy_score(y_test, y_pred_nb), accuracy_score(y_test, y_pred_svm)]\n",
    "\n",
    "# Plotting accuracy graph\n",
    "plt.bar(models, accuracies, color=['blue', 'green', 'red'])\n",
    "plt.xlabel('Models')\n",
    "plt.ylabel('Accuracy')\n",
    "plt.title('Model Accuracy Comparison')\n",
    "plt.show()\n"
   ]
  },
  {
   "cell_type": "code",
   "execution_count": 17,
   "metadata": {},
   "outputs": [
    {
     "data": {
      "image/png": "[encoded data removed]",
      "text/plain": [
       "<Figure size 800x600 with 2 Axes>"
      ]
     },
     "metadata": {},
     "output_type": "display_data"
    }
   ],
   "source": [
    "from sklearn.metrics import confusion_matrix\n",
    "import seaborn as sns\n",
    "import numpy as np\n",
    "\n",
    "# Compute confusion matrix\n",
    "conf_matrix = confusion_matrix(y_test, y_pred)\n",
    "\n",
    "# Plot confusion matrix as heatmap\n",
    "plt.figure(figsize=(8, 6))\n",
    "sns.heatmap(conf_matrix, annot=True, fmt='d', cmap='Blues', xticklabels=range(8), yticklabels=range(8))\n",
    "plt.xlabel('Predicted Labels')\n",
    "plt.ylabel('True Labels')\n",
    "plt.title('Confusion Matrix (Logistic Regression)')\n",
    "plt.show()\n"
   ]
  },
  {
   "cell_type": "code",
   "execution_count": null,
   "metadata": {},
   "outputs": [],
   "source": []
  }
 ],
 "metadata": {
  "kaggle": {
   "accelerator": "none",
   "dataSources": [
    {
     "datasetId": 771783,
     "sourceId": 1329934,
     "sourceType": "datasetVersion"
    }
   ],
   "dockerImageVersionId": 30804,
   "isGpuEnabled": false,
   "isInternetEnabled": true,
   "language": "python",
   "sourceType": "notebook"
  },
  "kernelspec": {
   "display_name": "Python 3 (ipykernel)",
   "language": "python",
   "name": "python3"
  },
  "language_info": {
   "codemirror_mode": {
    "name": "ipython",
    "version": 3
   },
   "file_extension": ".py",
   "mimetype": "text/x-python",
   "name": "python",
   "nbconvert_exporter": "python",
   "pygments_lexer": "ipython3",
   "version": "3.12.6"
  }
 },
 "nbformat": 4,
 "nbformat_minor": 4
}
